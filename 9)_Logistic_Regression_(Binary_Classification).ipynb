{
  "nbformat": 4,
  "nbformat_minor": 0,
  "metadata": {
    "colab": {
      "name": "8) Logistic_Regression_(Binary Classification).ipynb",
      "provenance": [],
      "authorship_tag": "ABX9TyNqYV5nZ7B6tRQT3b9bKluU",
      "include_colab_link": true
    },
    "kernelspec": {
      "name": "python3",
      "display_name": "Python 3"
    },
    "language_info": {
      "name": "python"
    }
  },
  "cells": [
    {
      "cell_type": "markdown",
      "metadata": {
        "id": "view-in-github",
        "colab_type": "text"
      },
      "source": [
        "<a href=\"https://colab.research.google.com/github/ajit04022000/MACHINE_LEARNING/blob/main/8)_Logistic_Regression_(Binary_Classification).ipynb\" target=\"_parent\"><img src=\"https://colab.research.google.com/assets/colab-badge.svg\" alt=\"Open In Colab\"/></a>"
      ]
    },
    {
      "cell_type": "code",
      "execution_count": 2,
      "metadata": {
        "id": "BjAT7CAPMgAs"
      },
      "outputs": [],
      "source": [
        "import numpy as np\n",
        "import pandas as pd\n",
        "import matplotlib.pyplot as plt\n",
        "import seaborn as sns\n",
        "%matplotlib inline"
      ]
    },
    {
      "cell_type": "code",
      "source": [
        "from sklearn.datasets import load_digits\n",
        "digits = load_digits()"
      ],
      "metadata": {
        "id": "CiRim71hOqiA"
      },
      "execution_count": 3,
      "outputs": []
    },
    {
      "cell_type": "code",
      "source": [
        "#Digits directory\n",
        "dir(digits)"
      ],
      "metadata": {
        "colab": {
          "base_uri": "https://localhost:8080/"
        },
        "id": "DyBIzuMkPJJ5",
        "outputId": "39570bfd-1bc1-45cc-e578-9ca852dc170c"
      },
      "execution_count": 5,
      "outputs": [
        {
          "output_type": "execute_result",
          "data": {
            "text/plain": [
              "['DESCR', 'data', 'feature_names', 'frame', 'images', 'target', 'target_names']"
            ]
          },
          "metadata": {},
          "execution_count": 5
        }
      ]
    },
    {
      "cell_type": "code",
      "source": [
        "digits.images[0]"
      ],
      "metadata": {
        "colab": {
          "base_uri": "https://localhost:8080/"
        },
        "id": "2QnbqwoPPkH4",
        "outputId": "1cdc5570-0e61-4a03-ff0c-ad3b01c6f424"
      },
      "execution_count": 11,
      "outputs": [
        {
          "output_type": "execute_result",
          "data": {
            "text/plain": [
              "array([[ 0.,  0.,  5., 13.,  9.,  1.,  0.,  0.],\n",
              "       [ 0.,  0., 13., 15., 10., 15.,  5.,  0.],\n",
              "       [ 0.,  3., 15.,  2.,  0., 11.,  8.,  0.],\n",
              "       [ 0.,  4., 12.,  0.,  0.,  8.,  8.,  0.],\n",
              "       [ 0.,  5.,  8.,  0.,  0.,  9.,  8.,  0.],\n",
              "       [ 0.,  4., 11.,  0.,  1., 12.,  7.,  0.],\n",
              "       [ 0.,  2., 14.,  5., 10., 12.,  0.,  0.],\n",
              "       [ 0.,  0.,  6., 13., 10.,  0.,  0.,  0.]])"
            ]
          },
          "metadata": {},
          "execution_count": 11
        }
      ]
    },
    {
      "cell_type": "code",
      "source": [
        "plt.matshow(digits.images[0])"
      ],
      "metadata": {
        "colab": {
          "base_uri": "https://localhost:8080/",
          "height": 292
        },
        "id": "RCtNa8nSPrlJ",
        "outputId": "7906cee8-e884-4ac6-ce89-bf6c4b85b8d5"
      },
      "execution_count": 15,
      "outputs": [
        {
          "output_type": "execute_result",
          "data": {
            "text/plain": [
              "<matplotlib.image.AxesImage at 0x7f7eedd9a710>"
            ]
          },
          "metadata": {},
          "execution_count": 15
        },
        {
          "output_type": "display_data",
          "data": {
            "text/plain": [
              "<Figure size 288x288 with 1 Axes>"
            ],
            "image/png": "[encoded data removed]"
          },
          "metadata": {
            "needs_background": "light"
          }
        }
      ]
    },
    {
      "cell_type": "code",
      "source": [
        "plt.gray()\n",
        "for i in range(5):\n",
        "  plt.matshow(digits.images[i])"
      ],
      "metadata": {
        "colab": {
          "base_uri": "https://localhost:8080/",
          "height": 1000
        },
        "id": "rRnkRHeNQEaK",
        "outputId": "54cba181-19f0-43cb-bf67-1e1e3187e31a"
      },
      "execution_count": 16,
      "outputs": [
        {
          "output_type": "display_data",
          "data": {
            "text/plain": [
              "<Figure size 432x288 with 0 Axes>"
            ]
          },
          "metadata": {}
        },
        {
          "output_type": "display_data",
          "data": {
            "text/plain": [
              "<Figure size 288x288 with 1 Axes>"
            ],
            "image/png": "[encoded data removed]"
          },
          "metadata": {
            "needs_background": "light"
          }
        },
        {
          "output_type": "display_data",
          "data": {
            "text/plain": [
              "<Figure size 288x288 with 1 Axes>"
            ],
            "image/png": "[encoded data removed]"
          },
          "metadata": {
            "needs_background": "light"
          }
        },
        {
          "output_type": "display_data",
          "data": {
            "text/plain": [
              "<Figure size 288x288 with 1 Axes>"
            ],
            "image/png": "[encoded data removed]"
          },
          "metadata": {
            "needs_background": "light"
          }
        },
        {
          "output_type": "display_data",
          "data": {
            "text/plain": [
              "<Figure size 288x288 with 1 Axes>"
            ],
            "image/png": "[encoded data removed]"
          },
          "metadata": {
            "needs_background": "light"
          }
        },
        {
          "output_type": "display_data",
          "data": {
            "text/plain": [
              "<Figure size 288x288 with 1 Axes>"
            ],
            "image/png": "[encoded data removed]"
          },
          "metadata": {
            "needs_background": "light"
          }
        }
      ]
    },
    {
      "cell_type": "code",
      "source": [
        "# target class total 10\n",
        "digits.target[:5]"
      ],
      "metadata": {
        "colab": {
          "base_uri": "https://localhost:8080/"
        },
        "id": "WFj5gMo7QXge",
        "outputId": "20302400-98e0-499a-c1a5-6b7d0aacdac3"
      },
      "execution_count": 17,
      "outputs": [
        {
          "output_type": "execute_result",
          "data": {
            "text/plain": [
              "array([0, 1, 2, 3, 4])"
            ]
          },
          "metadata": {},
          "execution_count": 17
        }
      ]
    },
    {
      "cell_type": "code",
      "source": [
        "#appling LogisticRegrassion\n",
        "from sklearn.linear_model import LogisticRegression\n",
        "model = LogisticRegression()"
      ],
      "metadata": {
        "id": "kt6DwbZwQh9n"
      },
      "execution_count": 18,
      "outputs": []
    },
    {
      "cell_type": "code",
      "source": [
        "from sklearn.model_selection import train_test_split\n",
        "X_train,X_test,y_train,y_test = train_test_split(digits.data,digits.target,test_size=0.2)"
      ],
      "metadata": {
        "id": "xfsVGF0JQwlK"
      },
      "execution_count": 20,
      "outputs": []
    },
    {
      "cell_type": "code",
      "source": [
        "len(X_train)"
      ],
      "metadata": {
        "colab": {
          "base_uri": "https://localhost:8080/"
        },
        "id": "4IAggh34RUgj",
        "outputId": "dfc37f36-8df3-4667-e3ac-034d2d4430e3"
      },
      "execution_count": 21,
      "outputs": [
        {
          "output_type": "execute_result",
          "data": {
            "text/plain": [
              "1437"
            ]
          },
          "metadata": {},
          "execution_count": 21
        }
      ]
    },
    {
      "cell_type": "code",
      "source": [
        "len(X_test)"
      ],
      "metadata": {
        "colab": {
          "base_uri": "https://localhost:8080/"
        },
        "id": "Hqc5WAWwRpbB",
        "outputId": "7634a9a1-7fc0-4fac-bfa0-50f11ed27ea9"
      },
      "execution_count": 22,
      "outputs": [
        {
          "output_type": "execute_result",
          "data": {
            "text/plain": [
              "360"
            ]
          },
          "metadata": {},
          "execution_count": 22
        }
      ]
    },
    {
      "cell_type": "code",
      "source": [
        "model.fit(X_train,y_train)"
      ],
      "metadata": {
        "colab": {
          "base_uri": "https://localhost:8080/"
        },
        "id": "fsrXpVrZRrUk",
        "outputId": "682b7470-efc6-4d5b-818c-ae2abc098b4b"
      },
      "execution_count": 24,
      "outputs": [
        {
          "output_type": "stream",
          "name": "stderr",
          "text": [
            "/usr/local/lib/python3.7/dist-packages/sklearn/linear_model/_logistic.py:818: ConvergenceWarning: lbfgs failed to converge (status=1):\n",
            "STOP: TOTAL NO. of ITERATIONS REACHED LIMIT.\n",
            "\n",
            "Increase the number of iterations (max_iter) or scale the data as shown in:\n",
            "    https://scikit-learn.org/stable/modules/preprocessing.html\n",
            "Please also refer to the documentation for alternative solver options:\n",
            "    https://scikit-learn.org/stable/modules/linear_model.html#logistic-regression\n",
            "  extra_warning_msg=_LOGISTIC_SOLVER_CONVERGENCE_MSG,\n"
          ]
        },
        {
          "output_type": "execute_result",
          "data": {
            "text/plain": [
              "LogisticRegression()"
            ]
          },
          "metadata": {},
          "execution_count": 24
        }
      ]
    },
    {
      "cell_type": "code",
      "source": [
        "model.predict(X_test)"
      ],
      "metadata": {
        "colab": {
          "base_uri": "https://localhost:8080/"
        },
        "id": "3L-aaSu9RwN_",
        "outputId": "ce930471-77f8-47f5-c3af-51654dd0fdf7"
      },
      "execution_count": 26,
      "outputs": [
        {
          "output_type": "execute_result",
          "data": {
            "text/plain": [
              "array([4, 9, 9, 2, 1, 1, 2, 5, 9, 0, 4, 6, 4, 5, 3, 2, 5, 5, 0, 6, 3, 1,\n",
              "       5, 6, 1, 4, 8, 3, 7, 3, 8, 8, 5, 5, 6, 6, 1, 3, 7, 7, 6, 9, 3, 0,\n",
              "       3, 6, 7, 5, 5, 1, 7, 7, 2, 9, 1, 9, 7, 6, 0, 4, 6, 8, 7, 2, 8, 3,\n",
              "       7, 9, 0, 1, 6, 3, 3, 0, 7, 7, 0, 8, 3, 8, 4, 2, 5, 1, 0, 7, 2, 8,\n",
              "       7, 1, 4, 5, 8, 3, 3, 1, 2, 5, 7, 0, 3, 4, 1, 7, 4, 1, 2, 8, 6, 2,\n",
              "       2, 5, 5, 4, 1, 5, 4, 6, 3, 3, 0, 8, 7, 3, 6, 6, 4, 7, 0, 2, 4, 4,\n",
              "       8, 9, 3, 1, 9, 1, 6, 9, 0, 5, 8, 0, 5, 0, 0, 7, 7, 7, 6, 3, 0, 5,\n",
              "       0, 4, 5, 1, 2, 2, 6, 1, 0, 9, 0, 3, 5, 3, 2, 7, 8, 8, 6, 4, 2, 9,\n",
              "       8, 8, 9, 7, 1, 9, 3, 2, 6, 9, 9, 8, 1, 2, 2, 6, 6, 0, 8, 0, 3, 1,\n",
              "       7, 2, 3, 5, 1, 7, 9, 2, 8, 2, 3, 6, 2, 3, 9, 1, 9, 1, 8, 1, 4, 6,\n",
              "       4, 7, 1, 1, 9, 2, 4, 0, 5, 2, 1, 1, 8, 3, 1, 7, 4, 4, 0, 2, 6, 1,\n",
              "       4, 7, 4, 4, 8, 2, 2, 9, 1, 4, 4, 8, 8, 9, 0, 0, 9, 6, 6, 8, 2, 7,\n",
              "       0, 0, 7, 4, 5, 7, 6, 7, 4, 4, 6, 0, 5, 1, 9, 3, 2, 9, 1, 2, 1, 9,\n",
              "       9, 4, 9, 3, 4, 2, 8, 4, 8, 3, 2, 1, 2, 3, 3, 8, 2, 9, 0, 8, 9, 8,\n",
              "       4, 5, 3, 8, 7, 9, 5, 6, 4, 4, 1, 6, 3, 1, 5, 6, 6, 6, 5, 4, 2, 8,\n",
              "       4, 4, 8, 3, 0, 6, 3, 7, 5, 0, 8, 5, 5, 2, 7, 8, 6, 2, 7, 6, 0, 6,\n",
              "       1, 0, 0, 2, 6, 6, 7, 5])"
            ]
          },
          "metadata": {},
          "execution_count": 26
        }
      ]
    },
    {
      "cell_type": "code",
      "source": [
        "y_test"
      ],
      "metadata": {
        "colab": {
          "base_uri": "https://localhost:8080/"
        },
        "id": "LnmOA7bCR3AJ",
        "outputId": "ff7f8d02-e1ca-4944-b901-b932802a7db4"
      },
      "execution_count": 28,
      "outputs": [
        {
          "output_type": "execute_result",
          "data": {
            "text/plain": [
              "array([4, 9, 9, 2, 1, 1, 2, 5, 9, 0, 4, 6, 1, 5, 3, 2, 5, 5, 0, 6, 3, 1,\n",
              "       5, 6, 1, 4, 8, 3, 7, 3, 8, 8, 5, 5, 6, 6, 1, 3, 7, 7, 6, 9, 3, 0,\n",
              "       3, 6, 7, 7, 5, 1, 7, 7, 2, 9, 1, 9, 7, 6, 0, 7, 6, 8, 7, 2, 8, 3,\n",
              "       7, 9, 0, 1, 6, 3, 3, 0, 7, 7, 0, 8, 3, 8, 4, 2, 5, 1, 0, 7, 2, 8,\n",
              "       7, 1, 4, 5, 8, 3, 3, 1, 2, 5, 7, 0, 3, 4, 1, 7, 4, 1, 2, 8, 6, 2,\n",
              "       2, 5, 5, 4, 1, 5, 4, 6, 3, 5, 0, 8, 4, 3, 6, 6, 4, 7, 0, 2, 4, 4,\n",
              "       8, 9, 3, 1, 9, 1, 6, 9, 0, 5, 8, 0, 5, 0, 0, 7, 7, 9, 6, 3, 0, 5,\n",
              "       0, 4, 5, 1, 2, 2, 6, 1, 0, 9, 0, 3, 5, 3, 2, 7, 1, 8, 6, 4, 2, 9,\n",
              "       9, 9, 3, 7, 1, 9, 3, 2, 6, 9, 9, 8, 1, 2, 2, 6, 6, 0, 8, 0, 3, 1,\n",
              "       7, 2, 8, 5, 1, 7, 9, 2, 3, 2, 3, 6, 2, 3, 9, 1, 9, 1, 8, 8, 4, 6,\n",
              "       4, 7, 1, 1, 9, 2, 4, 0, 5, 2, 4, 1, 8, 3, 1, 7, 4, 4, 0, 2, 6, 1,\n",
              "       4, 7, 4, 4, 8, 2, 2, 9, 1, 4, 4, 8, 8, 9, 0, 0, 9, 6, 6, 1, 2, 7,\n",
              "       0, 0, 7, 4, 5, 7, 6, 7, 4, 4, 6, 0, 5, 1, 9, 3, 2, 9, 1, 2, 1, 9,\n",
              "       9, 4, 9, 3, 4, 2, 8, 4, 8, 3, 2, 1, 2, 3, 3, 8, 2, 9, 0, 8, 9, 8,\n",
              "       4, 5, 3, 8, 7, 9, 5, 6, 4, 4, 1, 6, 3, 1, 5, 6, 6, 6, 5, 4, 2, 8,\n",
              "       4, 4, 8, 3, 0, 6, 3, 7, 5, 0, 8, 5, 8, 2, 7, 8, 6, 2, 7, 6, 0, 6,\n",
              "       1, 0, 0, 2, 6, 6, 7, 5])"
            ]
          },
          "metadata": {},
          "execution_count": 28
        }
      ]
    },
    {
      "cell_type": "code",
      "source": [
        "model.score(X_test,y_test)"
      ],
      "metadata": {
        "colab": {
          "base_uri": "https://localhost:8080/"
        },
        "id": "KC8fLysvSAOx",
        "outputId": "e60e4880-b8c0-4978-b0ae-042e6ce9a910"
      },
      "execution_count": 29,
      "outputs": [
        {
          "output_type": "execute_result",
          "data": {
            "text/plain": [
              "0.9555555555555556"
            ]
          },
          "metadata": {},
          "execution_count": 29
        }
      ]
    },
    {
      "cell_type": "code",
      "source": [
        "y_predict = model.predict(X_test)"
      ],
      "metadata": {
        "id": "6pSZ341LSMnr"
      },
      "execution_count": 30,
      "outputs": []
    },
    {
      "cell_type": "code",
      "source": [
        "from sklearn.metrics import confusion_matrix\n",
        "cm = confusion_matrix(y_test,y_predict)\n",
        "cm"
      ],
      "metadata": {
        "colab": {
          "base_uri": "https://localhost:8080/"
        },
        "id": "P7gJ95qCSZv5",
        "outputId": "aaedff16-8d9f-4164-e8ca-eef58158e308"
      },
      "execution_count": 31,
      "outputs": [
        {
          "output_type": "execute_result",
          "data": {
            "text/plain": [
              "array([[34,  0,  0,  0,  0,  0,  0,  0,  0,  0],\n",
              "       [ 0, 37,  0,  0,  1,  0,  0,  0,  2,  0],\n",
              "       [ 0,  0, 39,  0,  0,  0,  0,  0,  0,  0],\n",
              "       [ 0,  0,  0, 34,  0,  0,  0,  0,  1,  1],\n",
              "       [ 0,  1,  0,  0, 36,  0,  0,  1,  0,  0],\n",
              "       [ 0,  0,  0,  1,  0, 30,  0,  0,  0,  0],\n",
              "       [ 0,  0,  0,  0,  0,  0, 39,  0,  0,  0],\n",
              "       [ 0,  0,  0,  0,  1,  1,  0, 34,  0,  0],\n",
              "       [ 0,  1,  0,  1,  0,  1,  0,  0, 31,  0],\n",
              "       [ 0,  0,  0,  0,  0,  0,  0,  1,  2, 30]])"
            ]
          },
          "metadata": {},
          "execution_count": 31
        }
      ]
    },
    {
      "cell_type": "code",
      "source": [
        "plt.figure(figsize=(10,7))\n",
        "sns.heatmap(cm,annot=True)\n",
        "plt.xlabel('predicted')\n",
        "plt.ylabel('Truth')"
      ],
      "metadata": {
        "colab": {
          "base_uri": "https://localhost:8080/",
          "height": 459
        },
        "id": "mwV2REspSxJQ",
        "outputId": "cbdb76ac-589c-47ee-93fe-cfc43e8aff2e"
      },
      "execution_count": 32,
      "outputs": [
        {
          "output_type": "execute_result",
          "data": {
            "text/plain": [
              "Text(69.0, 0.5, 'Truth')"
            ]
          },
          "metadata": {},
          "execution_count": 32
        },
        {
          "output_type": "display_data",
          "data": {
            "text/plain": [
              "<Figure size 720x504 with 2 Axes>"
            ],
            "image/png": "[encoded data removed]"
          },
          "metadata": {
            "needs_background": "light"
          }
        }
      ]
    },
    {
      "cell_type": "code",
      "source": [
        ""
      ],
      "metadata": {
        "id": "SbVtvzy2TM5k"
      },
      "execution_count": null,
      "outputs": []
    },
    {
      "cell_type": "markdown",
      "source": [
        "##<b>Excercise:\n",
        "\n",
        "Use sklearn.datasets iris flower dataset to train your model using logistic regression. You need to figure out accuracy of your model and use that to predict different samples in your test dataset. In iris dataset there are 150 samples containing following features,\n",
        "\n",
        "1. Sepal Length\n",
        "\n",
        "2. Sepal Width\n",
        "\n",
        "3. Petal Length\n",
        "\n",
        "4. Petal Width\n",
        "\n",
        "Using above 4 features you will clasify a flower in one of the three categories.\n",
        "\n",
        "1. Setosa\n",
        "\n",
        "2. Versicolour\n",
        "\n",
        "3. Virginica"
      ],
      "metadata": {
        "id": "bu8ln_ZOT-di"
      }
    },
    {
      "cell_type": "code",
      "source": [
        ""
      ],
      "metadata": {
        "id": "63FHmFYUUDEc"
      },
      "execution_count": 34,
      "outputs": []
    },
    {
      "cell_type": "code",
      "source": [
        ""
      ],
      "metadata": {
        "id": "R1ks3Vc-UIyj"
      },
      "execution_count": null,
      "outputs": []
    }
  ]
}
