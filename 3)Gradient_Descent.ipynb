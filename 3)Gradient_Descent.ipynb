{
  "nbformat": 4,
  "nbformat_minor": 0,
  "metadata": {
    "colab": {
      "name": "3)Gradient_Descent.ipynb",
      "provenance": [],
      "authorship_tag": "ABX9TyNGWuQYUxRG0vZjSQ2KPX9M",
      "include_colab_link": true
    },
    "kernelspec": {
      "name": "python3",
      "display_name": "Python 3"
    },
    "language_info": {
      "name": "python"
    }
  },
  "cells": [
    {
      "cell_type": "markdown",
      "metadata": {
        "id": "view-in-github",
        "colab_type": "text"
      },
      "source": [
        "<a href=\"https://colab.research.google.com/github/ajit04022000/MACHINE_LEARNING/blob/main/3)Gradient_Descent.ipynb\" target=\"_parent\"><img src=\"https://colab.research.google.com/assets/colab-badge.svg\" alt=\"Open In Colab\"/></a>"
      ]
    },
    {
      "cell_type": "code",
      "execution_count": 24,
      "metadata": {
        "id": "TsCfKV8NgtBD"
      },
      "outputs": [],
      "source": [
        "import numpy as np\n",
        "def gradient_descent(x,y):\n",
        "  # step 1\n",
        "  m_curr = b_curr = 0\n",
        "  # step 2\n",
        "  iteration = 100\n",
        "  n = len(x)\n",
        "  learning_rate = 0.08\n",
        "\n",
        "  for i in range (iteration):\n",
        "    yp = m_curr * x + b_curr\n",
        "    cost = 1/n * sum([val**2 for val in (y-yp)])\n",
        "\n",
        "    #calculating the partial deravative\n",
        "    md = -(2/n) * sum(x* (y-yp)) \n",
        "    bd = -(2/n) * sum(y-yp)\n",
        "\n",
        "    m_curr = m_curr - learning_rate * md\n",
        "    b_curr = b_curr - learning_rate * bd\n",
        "\n",
        "    print(\"m {}, b{},cost{} iteration {}\".format(m_curr,b_curr,cost,i))\n",
        "  pass"
      ]
    },
    {
      "cell_type": "code",
      "source": [
        "x = np.array([1,2,3,4,5])\n",
        "y = np.array([5,7,9,11,13])\n",
        "\n",
        "gradient_descent(x,y)"
      ],
      "metadata": {
        "colab": {
          "base_uri": "https://localhost:8080/"
        },
        "id": "q0Qle-dPnbfO",
        "outputId": "a6e9ce05-570f-4718-add9-05f170f1b470"
      },
      "execution_count": 25,
      "outputs": [
        {
          "output_type": "stream",
          "name": "stdout",
          "text": [
            "m 4.96, b1.44,cost89.0 iteration 0\n",
            "m 0.4991999999999983, b0.26879999999999993,cost71.10560000000002 iteration 1\n",
            "m 4.451584000000002, b1.426176000000001,cost56.8297702400001 iteration 2\n",
            "m 0.892231679999997, b0.5012275199999995,cost45.43965675929613 iteration 3\n",
            "m 4.041314713600002, b1.432759910400001,cost36.35088701894832 iteration 4\n",
            "m 1.2008760606719973, b0.7036872622079998,cost29.097483330142282 iteration 5\n",
            "m 3.7095643080294423, b1.4546767911321612,cost23.307872849944438 iteration 6\n",
            "m 1.4424862661541864, b0.881337636696883,cost18.685758762535738 iteration 7\n",
            "m 3.4406683721083144, b1.4879302070713722,cost14.994867596913156 iteration 8\n",
            "m 1.6308855378034224, b1.0383405553279617,cost12.046787238456794 iteration 9\n",
            "m 3.2221235247119777, b1.5293810083298451,cost9.691269350698109 iteration 10\n",
            "m 1.7770832372205707, b1.1780607551353204,cost7.8084968312098315 iteration 11\n",
            "m 3.0439475772474127, b1.5765710804477953,cost6.302918117062937 iteration 12\n",
            "m 1.8898457226770244, b1.3032248704973899,cost5.098330841763168 iteration 13\n",
            "m 2.898169312926714, b1.6275829443328358,cost4.133961682056365 iteration 14\n",
            "m 1.9761515088959358, b1.4160484030347593,cost3.361340532576948 iteration 15\n",
            "m 2.7784216197824048, b1.6809279342791488,cost2.741808050753047 iteration 16\n",
            "m 2.0415541605113807, b1.5183370872989306,cost2.244528230107478 iteration 17\n",
            "m 2.6796170361078637, b1.735457156285639,cost1.8449036666988363 iteration 18\n",
            "m 2.090471617540917, b1.611567833948162,cost1.5233119201782324 iteration 19\n",
            "m 2.5976890103737853, b1.790290604096816,cost1.2640979056612756 iteration 20\n",
            "m 2.1264168621494517, b1.6969533824619085,cost1.0547704368105268 iteration 21\n",
            "m 2.529385561184701, b1.8447607474362664,cost0.8853615531285766 iteration 22\n",
            "m 2.1521818147302194, b1.7754939584778073,cost0.7479156468369821 iteration 23\n",
            "m 2.472104720735685, b1.8983676540508527,cost0.6360820885229722 iteration 24\n",
            "m 2.1699839382964696, b1.8480185634495874,cost0.5447903801652151 iteration 25\n",
            "m 2.423763296438881, b1.950743302915348,cost0.4699911136477278 iteration 26\n",
            "m 2.1815831093070837, b1.9152179921582295,cost0.4084494012702221 iteration 27\n",
            "m 2.3826922006906663, b2.0016232209455125,cost0.35758014655339476 iteration 28\n",
            "m 2.1883747814212473, b1.9776712492627107,cost0.31531667795040486 iteration 29\n",
            "m 2.3475529664737507, b2.0508239542984783,cost0.280005985849834 iteration 30\n",
            "m 2.19146424741668, b2.0358666977033213,cost0.2503251729489924 iteration 31\n",
            "m 2.317271157065729, b2.0982251873107836,cost0.2252148202231392 iteration 32\n",
            "m 2.19172583072087, b2.0902190019495084,cost0.2038258415569305 iteration 33\n",
            "m 2.2909832477163747, b2.1437555628915694,cost0.1854770944836773 iteration 34\n",
            "m 2.1898500615476015, b2.1410827139250586,cost0.16962156815305135 iteration 35\n",
            "m 2.2679942505397945, b2.1873814501542004,cost0.15581941113049289 iteration 36\n",
            "m 2.1863812735157397, b2.188763177870427,cost0.14371641365577967 iteration 37\n",
            "m 2.247743906750233, b2.2290980581236037,cost0.13302683968149862 iteration 38\n",
            "m 2.181747562970493, b2.2335252935837153,cost0.1235197278285518 iteration 39\n",
            "m 2.2297797112222417, b2.268922416384484,cost0.11500795886067308 iteration 40\n",
            "m 2.176284659606544, b2.2756005683762908,cost0.1073395295828815 iteration 41\n",
            "m 2.213735385878407, b2.306887840824943,cost0.10039058653754176 iteration 42\n",
            "m 2.170254943136438, b2.315192801071317,cost0.09405986334903649 iteration 43\n",
            "m 2.1993136987020745, b2.3430395801944157,cost0.08826423771269985 iteration 44\n",
            "m 2.1638625904931037, b2.3524826719863134,cost0.08293518155053264 iteration 45\n",
            "m 2.1862727486718105, b2.3774314010318136,cost0.07801592372722821 iteration 46\n",
            "m 2.1572656385141533, b2.3876314575042543,cost0.07345918129710392 iteration 47\n",
            "m 2.1744150151272015, b2.4101229178167802,cost0.06922534441882239 iteration 48\n",
            "m 2.150585587951272, b2.4207840437050385,cost0.06528102333197575 iteration 49\n",
            "m 2.1635786121786147, b2.441177514495622,cost0.06159788433500965 iteration 50\n",
            "m 2.1439150477863547, b2.4520713783305874,cost0.05815171649232756 iteration 51\n",
            "m 2.153630302083688, b2.470660734860243,cost0.054921682590988646 iteration 52\n",
            "m 2.137323817683481, b2.4816124722824338,cost0.05188971727120564 iteration 53\n",
            "m 2.1444599118649865, b2.4986390442291735,cost0.04904004275389065 iteration 54\n",
            "m 2.1308637257526066, b2.509516039457312,cost0.04635877856867898 iteration 55\n",
            "m 2.1359758694885094, b2.525178884782891,cost0.04383362645496491 iteration 56\n",
            "m 2.124572474492945, b2.535881845863144,cost0.04145361541183607 iteration 57\n",
            "m 2.128101633371053, b2.5503459627684273,cost0.03920889490609494 iteration 58\n",
            "m 2.118476696509155, b2.5608018247073736,cost0.03709056666678448 iteration 59\n",
            "m 2.120772834793503, b2.5742047184297996,cost0.03509054742420437 iteration 60\n",
            "m 2.112594380710634, b2.5843610027801502,cost0.03320145649050715 iteration 61\n",
            "m 2.1139349893254455, b2.5968179395942217,cost0.03141652330669783 iteration 62\n",
            "m 2.1069367971074353, b2.606638274382932,cost0.0297295110602709 iteration 63\n",
            "m 2.1075416624945413, b2.618246487870094,cost0.0281346532591438 iteration 64\n",
            "m 2.1015100223265035, b2.6277070518134993,cost0.02662660077102551 iteration 65\n",
            "m 2.101552998161378, b2.6385491128066176,cost0.025200377334927134 iteration 66\n",
            "m 2.096316147250177, b2.6476358156400974,cost0.023851341948628327 iteration 67\n",
            "m 2.095934536582619, b2.657782334457597,cost0.022575156852933542 iteration 68\n",
            "m 2.0913542316575633, b2.6664885833847243,cost0.021367760086655644 iteration 69\n",
            "m 2.090656263915584, b2.676000378847538,cost0.020225341788425083 iteration 70\n",
            "m 2.0866210575773376, b2.6843253115524512,cost0.019144323582910155 iteration 71\n",
            "m 2.0856918466960472, b2.693255154066937,cost0.018121340518098442 iteration 72\n",
            "m 2.082111722558874, b2.7012022430021245,cost0.017153225123473996 iteration 73\n",
            "m 2.0810180142142363, b2.709596257293525,cost0.01623699324146153 iteration 74\n",
            "m 2.077820105696288, b2.717172209303728,cost0.015369831350564987 iteration 75\n",
            "m 2.0766140592050317, b2.7250710050809133,cost0.014549085151541019 iteration 76\n",
            "m 2.0737392325653374, b2.732284895849552,cost0.013772249230347736 iteration 77\n",
            "m 2.0724614332425584, b2.7397244808822614,cost0.013036957645638886 iteration 78\n",
            "m 2.0698615599121704, b2.7465870759846718,cost0.012340975315898037 iteration 79\n",
            "m 2.0685434179941087, b2.7535995950692826,cost0.011682190103287127 iteration 80\n",
            "m 2.066179196691222, b2.760122819221025,cost0.011058605508984853 iteration 81\n",
            "m 2.064844857288579, b2.7667371537338745,cost0.010468333909073289 iteration 82\n",
            "m 2.0626840746684203, b2.7729336776379365,cost0.009909590271584152 iteration 83\n",
            "m 2.061351937985791, b2.7791759333750248,cost0.009380686304666458 iteration 84\n",
            "m 2.0593680791107873, b2.785058853801841,cost0.00888002499345325 iteration 85\n",
            "m 2.0580520100509183, b2.7909527592203687,cost0.00840609548939642 iteration 86\n",
            "m 2.056223147935525, b2.7965353529206687,cost0.007957468320912865 iteration 87\n",
            "m 2.05493343816708, b2.8021025854443096,cost0.007532790898352296 iteration 88\n",
            "m 2.0532413459797505, b2.8073981214530215,cost0.007130783289727114 iteration 89\n",
            "m 2.0519854787579397, b2.812658575950258,cost0.0067502342464980354 iteration 90\n",
            "m 2.050414919687842, b2.8176801739944057,cost0.006389997461079277 iteration 91\n",
            "m 2.0491981775199255, b2.8226521847051367,cost0.006048988039717134 iteration 92\n",
            "m 2.047736336426391, b2.8274127099427506,cost0.005726179176078216 iteration 93\n",
            "m 2.0465622835434223, b2.8321132348672426,cost0.005420599012302664 iteration 94\n",
            "m 2.045198311770722, b2.836625221187641,cost0.005131327675503935 iteration 95\n",
            "m 2.0440691768841837, b2.8410699961476715,cost0.0048574944787420265 iteration 96\n",
            "m 2.042793827417138, b2.845345591859636,cost0.004598275276411798 iteration 97\n",
            "m 2.0417108070703494, b2.8495492600018677,cost0.004352889964781892 iteration 98\n",
            "m 2.0405161418256377, b2.8536001910078013,cost0.004120600119124239 iteration 99\n"
          ]
        }
      ]
    },
    {
      "cell_type": "markdown",
      "source": [
        "\n",
        "\n",
        "---\n",
        "\n",
        "---\n",
        "\n",
        "\n",
        "\n",
        "---\n",
        "\n",
        "\n",
        "\n"
      ],
      "metadata": {
        "id": "xhYtQ7a8pQa9"
      }
    },
    {
      "cell_type": "code",
      "source": [
        "import numpy as np\n",
        "import matplotlib.pyplot as plt"
      ],
      "metadata": {
        "id": "0CiUJNExnh44"
      },
      "execution_count": 26,
      "outputs": []
    },
    {
      "cell_type": "code",
      "source": [
        "%matplotlib inline\n",
        "def gradient_descent(x,y):\n",
        "    m_curr = b_curr = 0\n",
        "    rate = 0.01\n",
        "    n = len(x)\n",
        "    plt.scatter(x,y,color='red',marker='+',linewidth='5')\n",
        "    for i in range(10000):\n",
        "        y_predicted = m_curr * x + b_curr\n",
        "#         print (m_curr,b_curr, i)\n",
        "        plt.plot(x,y_predicted,color='green')\n",
        "        md = -(2/n)*sum(x*(y-y_predicted))\n",
        "        yd = -(2/n)*sum(y-y_predicted)\n",
        "        m_curr = m_curr - rate * md\n",
        "        b_curr = b_curr - rate * yd"
      ],
      "metadata": {
        "id": "ShMYpoKSpS3B"
      },
      "execution_count": 27,
      "outputs": []
    },
    {
      "cell_type": "code",
      "source": [
        "x = np.array([1,2,3,4,5])\n",
        "y = np.array([5,7,9,11,13])"
      ],
      "metadata": {
        "id": "s_iUvTmJpV67"
      },
      "execution_count": 28,
      "outputs": []
    },
    {
      "cell_type": "code",
      "source": [
        "gradient_descent(x,y)"
      ],
      "metadata": {
        "colab": {
          "base_uri": "https://localhost:8080/",
          "height": 265
        },
        "id": "cjH_9TJEpZAm",
        "outputId": "dc1bac67-44f1-4cca-b7ea-dbab08c6d688"
      },
      "execution_count": 29,
      "outputs": [
        {
          "output_type": "display_data",
          "data": {
            "text/plain": [
              "<Figure size 432x288 with 1 Axes>"
            ],
            "image/png": "[encoded data removed]"
          },
          "metadata": {
            "needs_background": "light"
          }
        }
      ]
    },
    {
      "cell_type": "markdown",
      "source": [
        "\n",
        "\n",
        "---\n",
        "\n",
        "\n",
        "\n",
        "---\n",
        "\n",
        "\n",
        "\n",
        "---\n",
        "\n",
        "\n",
        "\n",
        "---\n",
        "\n"
      ],
      "metadata": {
        "id": "IbrzYKSHqZqH"
      }
    },
    {
      "cell_type": "markdown",
      "source": [
        "## Excercise"
      ],
      "metadata": {
        "id": "EjPLb6fxqcli"
      }
    },
    {
      "cell_type": "code",
      "source": [
        "import numpy as np\n",
        "import pandas as pd\n",
        "from sklearn.linear_model import LinearRegression\n",
        "import math"
      ],
      "metadata": {
        "id": "Puz1Yvj2pb9y"
      },
      "execution_count": 30,
      "outputs": []
    },
    {
      "cell_type": "code",
      "source": [
        "def predict_using_sklean():\n",
        "    df = pd.read_csv(\"https://raw.githubusercontent.com/codebasics/py/master/ML/3_gradient_descent/Exercise/test_scores.csv\")\n",
        "    r = LinearRegression()\n",
        "    r.fit(df[['math']],df.cs)\n",
        "    return r.coef_, r.intercept_"
      ],
      "metadata": {
        "id": "f3qru1bxqZK7"
      },
      "execution_count": 31,
      "outputs": []
    },
    {
      "cell_type": "code",
      "source": [
        "def gradient_descent(x,y):\n",
        "    m_curr = 0\n",
        "    b_curr = 0\n",
        "    iterations = 100\n",
        "    n = len(x)\n",
        "    learning_rate = 0.0002\n",
        "\n",
        "    cost_previous = 0\n",
        "\n",
        "    for i in range(iterations):\n",
        "        y_predicted = m_curr * x + b_curr\n",
        "        cost = (1/n)*sum([value**2 for value in (y-y_predicted)])\n",
        "        md = -(2/n)*sum(x*(y-y_predicted))\n",
        "        bd = -(2/n)*sum(y-y_predicted)\n",
        "        m_curr = m_curr - learning_rate * md\n",
        "        b_curr = b_curr - learning_rate * bd\n",
        "        if math.isclose(cost, cost_previous, rel_tol=1e-20):\n",
        "            break\n",
        "        cost_previous = cost\n",
        "        print (\"m {}, b {}, cost {}, iteration {}\".format(m_curr,b_curr,cost, i))\n",
        "\n",
        "    return m_curr, b_curr\n",
        "\n",
        "if __name__ == \"__main__\":\n",
        "    df = pd.read_csv(\"https://raw.githubusercontent.com/codebasics/py/master/ML/3_gradient_descent/Exercise/test_scores.csv\")\n",
        "    x = np.array(df.math)\n",
        "    y = np.array(df.cs)\n",
        "\n",
        "    m, b = gradient_descent(x,y)\n",
        "    print(\"Using gradient descent function: Coef {} Intercept {}\".format(m, b))\n",
        "\n",
        "    m_sklearn, b_sklearn = predict_using_sklean()\n",
        "    print(\"Using sklearn: Coef {} Intercept {}\".format(m_sklearn,b_sklearn))"
      ],
      "metadata": {
        "colab": {
          "base_uri": "https://localhost:8080/"
        },
        "id": "ZkR8zaXIqZHl",
        "outputId": "3fc81382-5db7-4fa5-decd-8b164d5e80ab"
      },
      "execution_count": 32,
      "outputs": [
        {
          "output_type": "stream",
          "name": "stdout",
          "text": [
            "m 1.9783600000000003, b 0.027960000000000002, cost 5199.1, iteration 0\n",
            "m 0.20975041279999962, b 0.0030470367999999894, cost 4161.482445460163, iteration 1\n",
            "m 1.7908456142986242, b 0.025401286955264, cost 3332.2237319269248, iteration 2\n",
            "m 0.37738163667530467, b 0.005499731626422651, cost 2669.4843523161976, iteration 3\n",
            "m 1.6409848166378898, b 0.023373894401807944, cost 2139.826383775145, iteration 4\n",
            "m 0.5113514173939655, b 0.0074774305434828076, cost 1716.5264071567592, iteration 5\n",
            "m 1.5212165764726306, b 0.021771129698498662, cost 1378.2272007804495, iteration 6\n",
            "m 0.6184191426785134, b 0.009075514323270572, cost 1107.8601808918404, iteration 7\n",
            "m 1.4254981563597626, b 0.020507724625171385, cost 891.7842215178443, iteration 8\n",
            "m 0.7039868810749315, b 0.010370210797388455, cost 719.0974036421305, iteration 9\n",
            "m 1.3490002310389348, b 0.01951553325074733, cost 581.0869686205, iteration 10\n",
            "m 0.7723719384951477, b 0.01142244086408669, cost 470.7897237271261, iteration 11\n",
            "m 1.2878632281408475, b 0.018740093691150705, cost 382.6407204862143, iteration 12\n",
            "m 0.8270246840299113, b 0.012280892197750798, cost 312.1924801681589, iteration 13\n",
            "m 1.2390025969113474, b 0.01813788028359247, cost 255.89060022344475, iteration 14\n",
            "m 0.8707026352388424, b 0.012984475742007832, cost 210.89442007737276, iteration 15\n",
            "m 1.1999531799587442, b 0.01767410753812916, cost 174.93369813849728, iteration 16\n",
            "m 0.9056095862354473, b 0.013564288926616264, cost 146.19406878727372, iteration 17\n",
            "m 1.168744835939885, b 0.017320975066834464, cost 123.2255001796068, iteration 18\n",
            "m 0.9335067981503328, b 0.014045184660493999, cost 104.86913418555842, iteration 19\n",
            "m 1.1438030378387343, b 0.017056264940052912, cost 90.1988172376793, iteration 20\n",
            "m 0.9558018619881088, b 0.014447025263025912, cost 78.4743720801518, iteration 21\n",
            "m 1.123869431612398, b 0.016862220700598438, cost 69.10425278659366, iteration 22\n",
            "m 0.9736197173740411, b 0.014785684599634922, cost 61.61569883880534, iteration 23\n",
            "m 1.1079383470620547, b 0.016724651477560692, cost 55.63088241716976, iteration 24\n",
            "m 0.9878594103778675, b 0.015073848983471565, cost 50.84784543555072, iteration 25\n",
            "m 1.0952060576414993, b 0.016632215998581557, cost 47.02526451581355, iteration 26\n",
            "m 0.9992394540800741, b 0.015321657252001263, cost 43.970275232370476, iteration 27\n",
            "m 1.0850302291522722, b 0.01657585037608088, cost 41.528741309884765, iteration 28\n",
            "m 1.0083340805074807, b 0.015537212312981736, cost 39.57747781519814, iteration 29\n",
            "m 1.0768975113455124, b 0.01654831079689666, cost 38.01803597157669, iteration 30\n",
            "m 1.0156022129971571, b 0.01572698996942581, cost 36.77173601363096, iteration 31\n",
            "m 1.0703976372937574, b 0.016543808042154003, cost 35.775697470042715, iteration 32\n",
            "m 1.0214106207634122, b 0.015896165650447946, cost 34.97966658555935, iteration 33\n",
            "m 1.0652027237396349, b 0.016557715397389393, cost 34.34348081266759, iteration 34\n",
            "m 1.0260524239108442, b 0.016048875532907396, cost 33.83504244613808, iteration 35\n",
            "m 1.0610507280390304, b 0.01658633521579648, cost 33.42869916198312, iteration 36\n",
            "m 1.0297618825473565, b 0.016188425228507268, cost 33.103949752366304, iteration 37\n",
            "m 1.0577322270335765, b 0.0166267123567505, cost 32.84440975547639, iteration 38\n",
            "m 1.0327262161686235, b 0.016317456565470633, cost 32.636984792143764, iteration 39\n",
            "m 1.0550798507922887, b 0.016676485086818824, cost 32.47120990063734, iteration 40\n",
            "m 1.035095049650491, b 0.016438080879614143, cost 32.33872153636954, iteration 41\n",
            "m 1.052959838111218, b 0.01673376592060118, cost 32.23283559672576, iteration 42\n",
            "m 1.036987962438417, b 0.016551985539901195, cost 32.14821018063812, iteration 43\n",
            "m 1.0512652877114044, b 0.01679704638933073, cost 32.08057606773955, iteration 44\n",
            "m 1.0385005218215662, b 0.016660519083126275, cost 32.02652131866401, iteration 45\n",
            "m 1.0499107646303472, b 0.016865120932420777, cost 31.983319128693804, iteration 46\n",
            "m 1.0397091046950075, b 0.01676475925312493, cost 31.94879024926364, iteration 47\n",
            "m 1.0488279896772978, b 0.01693702607197308, cost 31.921193035921274, iteration 48\n",
            "m 1.0406747510877237, b 0.016865567377366896, cost 31.899135575212195, iteration 49\n",
            "m 1.047962394467687, b 0.017011991801351975, cost 31.881505456930224, iteration 50\n",
            "m 1.0414462438827428, b 0.016963631824454838, cost 31.86741364845402, iteration 51\n",
            "m 1.0472703682240316, b 0.01708940273517817, cost 31.85614963940047, iteration 52\n",
            "m 1.0420625701139212, b 0.017059502735137972, cost 31.847145593458148, iteration 53\n",
            "m 1.046717057433117, b 0.017168767060599943, cost 31.839947698713402, iteration 54\n",
            "m 1.0425548880219075, b 0.017153619779162816, cost 31.83419327097573, iteration 55\n",
            "m 1.0462746073431242, b 0.01724969172330578, cost 31.829592454870966, iteration 56\n",
            "m 1.0429480991153375, b 0.017246334338408182, cost 31.825913599447194, iteration 57\n",
            "m 1.0459207565770121, b 0.017331862596311, cost 31.82297157043309, iteration 58\n",
            "m 1.0432621045542085, b 0.017337927235534713, cost 31.82061840945363, iteration 59\n",
            "m 1.0456377139546258, b 0.017415028630952047, cost 31.81873586892226, iteration 60\n",
            "m 1.0435128092451273, b 0.017428622902632068, cost 31.81722944596486, iteration 61\n",
            "m 1.0454112608545958, b 0.01749898919044121, cost 31.816023614361388, iteration 62\n",
            "m 1.0437129243091645, b 0.017518600704730235, cost 31.81505801393808, iteration 63\n",
            "m 1.0452300338265001, b 0.017583583926907467, cost 31.81428440514876, iteration 64\n",
            "m 1.0438726084101126, b 0.01760800398949262, cost 31.81366423519171, iteration 65\n",
            "m 1.0450849512581242, b 0.017668684691178615, cost 31.813166692862268, iteration 66\n",
            "m 1.043999980300792, b 0.017696947319685068, cost 31.812767154001268, iteration 67\n",
            "m 1.0449687551708302, b 0.017754189067120032, cost 31.812445939105075, iteration 68\n",
            "m 1.0441015284474728, b 0.017785522253328603, cost 31.81218732041362, iteration 69\n",
            "m 1.0448756450247292, b 0.017840015204310798, cost 31.811978728380467, iteration 70\n",
            "m 1.0441824383996428, b 0.01787380196316831, cost 31.81181011748764, iteration 71\n",
            "m 1.0448009850576234, b 0.01792609768834459, cost 31.811673459407757, iteration 72\n",
            "m 1.0442468544222752, b 0.017961844928529556, cost 31.811562337942128, iteration 73\n",
            "m 1.0447410703917646, b 0.01801238424039495, cost 31.811471625297237, iteration 74\n",
            "m 1.0442980885910158, b 0.018049697885830843, cost 31.811397223366267, iteration 75\n",
            "m 1.044692940107559, b 0.01809883307952457, cost 31.811335856963026, iteration 76\n",
            "m 1.0443387879000003, b 0.018137398186618782, cost 31.811284908575193, iteration 77\n",
            "m 1.044654227853013, b 0.018185410814656123, cost 31.811242286300104, iteration 78\n",
            "m 1.04437106781358, b 0.01822497568209775, cost 31.811206318299767, iteration 79\n",
            "m 1.044623042451559, b 0.018272090759846052, cost 31.811175668449643, iteration 80\n",
            "m 1.0443966190001837, b 0.018312454229236455, cost 31.81114926892579, iteration 81\n",
            "m 1.044597872484431, b 0.018358851587859853, cost 31.81112626632863, iteration 82\n",
            "m 1.0444167926334849, b 0.018399852894440714, cost 31.811105978625633, iteration 83\n",
            "m 1.0445775100333783, b 0.018445676254116222, cost 31.811087860739732, iteration 84\n",
            "m 1.0444326685646632, b 0.01848718691552271, cost 31.81107147704813, iteration 85\n",
            "m 1.0445609897362342, b 0.0185325511367087, cost 31.81105647940329, iteration 86\n",
            "m 1.044445109805328, b 0.018574468470501836, cost 31.81104258956744, iteration 87\n",
            "m 1.044547540080427, b 0.01861946534911527, cost 31.811029585174346, iteration 88\n",
            "m 1.044454806070002, b 0.018661707292026614, cost 31.81101728851003, iteration 89\n",
            "m 1.0445365444770032, b 0.01870641019091935, cost 31.81100555754639, iteration 90\n",
            "m 1.0444623085750486, b 0.01874891115841746, cost 31.810994278775315, iteration 91\n",
            "m 1.0445275101511837, b 0.018793378708828794, cost 31.810983361481625, iteration 92\n",
            "m 1.0444680578498022, b 0.01883608628610563, cost 31.810972733166256, iteration 93\n",
            "m 1.044520043279852, b 0.018880365345844474, cost 31.810962335888206, iteration 94\n",
            "m 1.0444724059630832, b 0.01892323764326849, cost 31.810952123341476, iteration 95\n",
            "m 1.0445138291215608, b 0.0189673656608776, cost 31.810942058518464, iteration 96\n",
            "m 1.0444756342865145, b 0.01901036920048514, cost 31.810932111842874, iteration 97\n",
            "m 1.0445086161365338, b 0.01905437610466928, cost 31.81092225967744, iteration 98\n",
            "m 1.0444779676908766, b 0.01909748413105923, cost 31.81091248313143, iteration 99\n",
            "Using gradient descent function: Coef 1.0444779676908766 Intercept 0.01909748413105923\n",
            "Using sklearn: Coef [1.01773624] Intercept 1.9152193111569034\n"
          ]
        }
      ]
    },
    {
      "cell_type": "code",
      "source": [
        ""
      ],
      "metadata": {
        "id": "_mIourA0qZE6"
      },
      "execution_count": null,
      "outputs": []
    },
    {
      "cell_type": "code",
      "source": [
        ""
      ],
      "metadata": {
        "id": "NV0jsRGgqZCH"
      },
      "execution_count": null,
      "outputs": []
    },
    {
      "cell_type": "code",
      "source": [
        ""
      ],
      "metadata": {
        "id": "nduALQ3cqY_W"
      },
      "execution_count": null,
      "outputs": []
    },
    {
      "cell_type": "code",
      "source": [
        ""
      ],
      "metadata": {
        "id": "OEqJfzAdqY8i"
      },
      "execution_count": null,
      "outputs": []
    },
    {
      "cell_type": "code",
      "source": [
        ""
      ],
      "metadata": {
        "id": "iJJaXP9FqY5y"
      },
      "execution_count": null,
      "outputs": []
    }
  ]
}